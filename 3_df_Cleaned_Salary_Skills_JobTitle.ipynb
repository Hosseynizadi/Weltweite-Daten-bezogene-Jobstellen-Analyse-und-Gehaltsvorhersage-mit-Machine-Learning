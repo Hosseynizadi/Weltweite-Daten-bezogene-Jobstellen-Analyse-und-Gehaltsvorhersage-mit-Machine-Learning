{
 "cells": [
  {
   "cell_type": "code",
   "execution_count": 1,
   "id": "a407c778-f1bf-4968-89a0-fb4dae1011de",
   "metadata": {},
   "outputs": [],
   "source": [
    "import pandas as pd "
   ]
  },
  {
   "cell_type": "code",
   "execution_count": 2,
   "id": "469e8d58-1724-4254-888b-67ebb7cddc61",
   "metadata": {},
   "outputs": [],
   "source": [
    "df_cleaned = pd.read_csv(\"df_cleaned_salary.csv\")"
   ]
  },
  {
   "cell_type": "code",
   "execution_count": 3,
   "id": "fdba32b7-3c41-4eae-83d2-e5d0e17d38de",
   "metadata": {},
   "outputs": [
    {
     "data": {
      "text/plain": [
       "Index(['Job Title', 'Company', 'Location', 'Salary Min', 'Salary Max',\n",
       "       'Description', 'Extracted Skills', 'Longitude', 'Latitude', 'URL',\n",
       "       'Created', 'Experience_years', 'Experience_Level'],\n",
       "      dtype='object')"
      ]
     },
     "execution_count": 3,
     "metadata": {},
     "output_type": "execute_result"
    }
   ],
   "source": [
    "df_cleaned.columns"
   ]
  },
  {
   "cell_type": "code",
   "execution_count": 4,
   "id": "285f1604-297a-49ff-8ea1-524df5aa9d89",
   "metadata": {},
   "outputs": [],
   "source": [
    "from sklearn.preprocessing import MultiLabelBinarizer"
   ]
  },
  {
   "cell_type": "code",
   "execution_count": 5,
   "id": "9e4973ea-20f5-447c-8e38-b7c933f453ba",
   "metadata": {},
   "outputs": [],
   "source": [
    "df = pd.read_csv('df_cleaned_salary.csv')  # Passe den Dateipfad an"
   ]
  },
  {
   "cell_type": "code",
   "execution_count": 6,
   "id": "16fde054-4e49-4acb-ae15-64a4d37d0654",
   "metadata": {},
   "outputs": [],
   "source": [
    "# Beispiel: Annahme, dass die Fähigkeiten durch Kommas getrennt sind\n",
    "df['Extracted Skills'] = df['Extracted Skills'].apply(lambda x: x.split(',') if isinstance(x, str) else [])"
   ]
  },
  {
   "cell_type": "code",
   "execution_count": 7,
   "id": "33ce4f49-dfcf-4794-af65-8e48b94c6005",
   "metadata": {},
   "outputs": [],
   "source": [
    "mlb = MultiLabelBinarizer()\n",
    "skills_transformed = mlb.fit_transform(df['Extracted Skills'])\n",
    "\n",
    "# Die Spaltennamen basierend auf den Fähigkeiten setzen\n",
    "skills_df = pd.DataFrame(skills_transformed, columns=mlb.classes_)\n",
    "\n",
    "# Die originalen DataFrame mit den neuen Spalten zusammenführen\n",
    "df = pd.concat([df, skills_df], axis=1)\n"
   ]
  },
  {
   "cell_type": "code",
   "execution_count": 8,
   "id": "6be6e7ec-cb98-45bb-ba25-d487111b3146",
   "metadata": {},
   "outputs": [],
   "source": [
    "df.to_csv('datei_mit_uberarbeiteten_faehigkeiten.csv', index=False)"
   ]
  },
  {
   "cell_type": "code",
   "execution_count": 9,
   "id": "6402d2f0-2931-4b0e-8391-91e9419be16c",
   "metadata": {},
   "outputs": [],
   "source": [
    "# Konvertiere alle Fähigkeiten-Spalten in den Boolean-Typ (True/False oder 1/0)\n",
    "df[mlb.classes_] = df[mlb.classes_].astype(bool)\n",
    "\n",
    "# Alternativ, um sie als 0 und 1 explizit zu haben:\n",
    "df[mlb.classes_] = df[mlb.classes_].astype(int)\n"
   ]
  },
  {
   "cell_type": "code",
   "execution_count": 10,
   "id": "a61205ed-3945-4797-821b-53823eb4f102",
   "metadata": {},
   "outputs": [
    {
     "name": "stdout",
     "output_type": "stream",
     "text": [
      "                           Job Title        Company  \\\n",
      "0          Machine Learning Engineer    InfoCentric   \n",
      "1             Federal Sales Director         h2o.ai   \n",
      "2  Data Scientist, Associate/Analyst      BlackRock   \n",
      "3   Senior Machine Learning Engineer         Motork   \n",
      "4                        AI Engineer  Catch Recruit   \n",
      "\n",
      "                         Location  Salary Min  Salary Max  \\\n",
      "0       Dunnstown, Moorabool Area     99000.0    132000.0   \n",
      "1          Barton, South Canberra     99000.0    132000.0   \n",
      "2             Edinburgh, Scotland     68720.6     68720.6   \n",
      "3  Provincia di Milano, Lombardia     54500.0     76300.0   \n",
      "4     Sandton, North Johannesburg     12960.0     22680.0   \n",
      "\n",
      "                                         Description Extracted Skills  \\\n",
      "0  InfoCentric is one of the largest Australian-o...               []   \n",
      "1  About This Opportunity We are looking for a hi...               []   \n",
      "2  The AI Labs was formed to act as a central hub...               []   \n",
      "3  MotorK is the leading sales and marketing tech...               []   \n",
      "4  Key Responsibilities - Develop and maintain sc...               []   \n",
      "\n",
      "    Longitude   Latitude                                                URL  \\\n",
      "0  143.952548 -37.579665  https://www.adzuna.com.au/details/5084991675?u...   \n",
      "1  149.133481 -35.309391  https://www.adzuna.com.au/details/5056635984?u...   \n",
      "2   -3.327942  55.943116  https://www.adzuna.co.uk/jobs/details/50614621...   \n",
      "3    9.138379  45.473082  https://www.adzuna.it/land/ad/5054690080?se=ol...   \n",
      "4   28.048330 -26.068610  https://www.adzuna.co.za/details/5012435460?ut...   \n",
      "\n",
      "   ... Pandas  Power BI PyTorch  Python  R  SQL  Snowflake  Spark  Tableau  \\\n",
      "0  ...      0         0       0       0  0    0          0      0        0   \n",
      "1  ...      0         0       0       0  0    0          0      0        0   \n",
      "2  ...      0         0       0       0  0    0          0      0        0   \n",
      "3  ...      0         0       0       0  0    0          0      1        0   \n",
      "4  ...      0         0       0       0  0    0          0      0        0   \n",
      "\n",
      "   TensorFlow  \n",
      "0           0  \n",
      "1           0  \n",
      "2           0  \n",
      "3           0  \n",
      "4           0  \n",
      "\n",
      "[5 rows x 63 columns]\n"
     ]
    }
   ],
   "source": [
    "# Die 'Extracted Skills' in Listen umwandeln, falls noch nicht geschehen\n",
    "df['Extracted Skills'] = df['Extracted Skills'].apply(lambda x: x.split(',') if isinstance(x, str) else [])\n",
    "\n",
    "# MultiLabelBinarizer anwenden, um die Fähigkeiten in separate Spalten umzuwandeln\n",
    "mlb = MultiLabelBinarizer()\n",
    "skills_transformed = mlb.fit_transform(df['Extracted Skills'])\n",
    "\n",
    "# Erstelle DataFrame mit den neuen Spalten (Fähigkeiten)\n",
    "skills_df = pd.DataFrame(skills_transformed, columns=mlb.classes_)\n",
    "\n",
    "# Füge die neuen Spalten zum ursprünglichen DataFrame hinzu\n",
    "df = pd.concat([df, skills_df], axis=1)\n",
    "\n",
    "# Stelle sicher, dass alle Spalten im richtigen numerischen Datentyp sind (0/1 als integer)\n",
    "df[mlb.classes_] = df[mlb.classes_].astype(int)\n",
    "\n",
    "# Überprüfen, ob alles korrekt ist\n",
    "print(df.head())\n",
    "\n",
    "# Optional: Wenn du die Datei mit den neuen Daten speichern möchtest\n",
    "df.to_csv('datei_mit_uberarbeiteten_faehigkeiten.csv', index=False)\n"
   ]
  },
  {
   "cell_type": "code",
   "execution_count": 11,
   "id": "a1b16897-4b86-459f-8c82-3a30e649f841",
   "metadata": {},
   "outputs": [
    {
     "name": "stdout",
     "output_type": "stream",
     "text": [
      "Anzahl der einzigartigen Jobtitel: 526\n"
     ]
    }
   ],
   "source": [
    "# Zähle die einzigartigen Jobtitel\n",
    "unique_job_titles = df['Job Title'].nunique()\n",
    "\n",
    "# Gib die Anzahl der einzigartigen Jobtitel aus\n",
    "print(f'Anzahl der einzigartigen Jobtitel: {unique_job_titles}')\n"
   ]
  },
  {
   "cell_type": "code",
   "execution_count": 12,
   "id": "07ad9cb1-dd33-4d4b-9d7a-d7aebcaa59aa",
   "metadata": {},
   "outputs": [],
   "source": [
    "# Definiere die Jobtitel und Levels, die du filtern möchtest\n",
    "job_titles = [\"Data Scientist\", \"Data Analyst\", \"Data Engineer\", \"Machine Learning Engineer\", \"Analytics Consultant\"]\n",
    "experience_levels = [\"junior\", \"mid-level\", \"senior\", \"expert\"]\n"
   ]
  },
  {
   "cell_type": "code",
   "execution_count": 13,
   "id": "f8d44b72-65e1-4bd3-b6cd-002411185875",
   "metadata": {},
   "outputs": [
    {
     "name": "stdout",
     "output_type": "stream",
     "text": [
      "                           Job Title  \\\n",
      "0          Machine Learning Engineer   \n",
      "2  Data Scientist, Associate/Analyst   \n",
      "3   Senior Machine Learning Engineer   \n",
      "5         Business Data Analysts F/H   \n",
      "6         Business Data Analysts F/H   \n",
      "\n",
      "                                       Company  \\\n",
      "0                                  InfoCentric   \n",
      "2                                    BlackRock   \n",
      "3                                       Motork   \n",
      "5             Robert Half International France   \n",
      "6  Robert Half Finance et Comptabilité Interim   \n",
      "\n",
      "                         Location  Salary Min  Salary Max  \\\n",
      "0       Dunnstown, Moorabool Area     99000.0    132000.0   \n",
      "2             Edinburgh, Scotland     68720.6     68720.6   \n",
      "3  Provincia di Milano, Lombardia     54500.0     76300.0   \n",
      "5           Élancourt, Versailles     43600.0     54500.0   \n",
      "6           Élancourt, Versailles     43600.0     54500.0   \n",
      "\n",
      "                                         Description Extracted Skills  \\\n",
      "0  InfoCentric is one of the largest Australian-o...               []   \n",
      "2  The AI Labs was formed to act as a central hub...               []   \n",
      "3  MotorK is the leading sales and marketing tech...               []   \n",
      "5  Votre rôle en tant que Business Data Analysts ...               []   \n",
      "6  A propos de notre client Notre client, spécial...               []   \n",
      "\n",
      "    Longitude   Latitude                                                URL  \\\n",
      "0  143.952548 -37.579665  https://www.adzuna.com.au/details/5084991675?u...   \n",
      "2   -3.327942  55.943116  https://www.adzuna.co.uk/jobs/details/50614621...   \n",
      "3    9.138379  45.473082  https://www.adzuna.it/land/ad/5054690080?se=ol...   \n",
      "5    1.958306  48.783341  https://www.adzuna.fr/details/5054923808?utm_m...   \n",
      "6    1.960110  48.782540  https://www.adzuna.fr/details/5047143655?utm_m...   \n",
      "\n",
      "   ... Pandas  Power BI PyTorch  Python  R  SQL  Snowflake  Spark  Tableau  \\\n",
      "0  ...      0         0       0       0  0    0          0      0        0   \n",
      "2  ...      0         0       0       0  0    0          0      0        0   \n",
      "3  ...      0         0       0       0  0    0          0      1        0   \n",
      "5  ...      0         0       0       0  0    0          0      0        0   \n",
      "6  ...      0         0       0       0  0    0          0      0        0   \n",
      "\n",
      "   TensorFlow  \n",
      "0           0  \n",
      "2           0  \n",
      "3           0  \n",
      "5           0  \n",
      "6           0  \n",
      "\n",
      "[5 rows x 63 columns]\n"
     ]
    }
   ],
   "source": [
    "import pandas as pd\n",
    "\n",
    "# Filtern der Jobtitel, die in der Liste enthalten sind, und der Experience Level\n",
    "filtered_df = df[df['Job Title'].str.contains('|'.join(job_titles), case=False, na=False) &\n",
    "                 df['Experience_Level'].str.contains('|'.join(experience_levels), case=False, na=False)]\n",
    "\n",
    "# Überprüfen der gefilterten Ergebnisse\n",
    "print(filtered_df.head())\n"
   ]
  },
  {
   "cell_type": "code",
   "execution_count": 14,
   "id": "2f12ae82-8f98-464a-ab98-1e445baaa4a2",
   "metadata": {},
   "outputs": [
    {
     "name": "stdout",
     "output_type": "stream",
     "text": [
      "Anzahl der gefilterten Jobs: 2053\n"
     ]
    }
   ],
   "source": [
    "# Ausgabe der Anzahl der gefilterten Zeilen\n",
    "print(f\"Anzahl der gefilterten Jobs: {filtered_df.shape[0]}\")\n"
   ]
  },
  {
   "cell_type": "code",
   "execution_count": 15,
   "id": "df74678a-8c11-49ba-a346-0e02bb5ab964",
   "metadata": {},
   "outputs": [
    {
     "name": "stdout",
     "output_type": "stream",
     "text": [
      "                                       Job Title           Company  \\\n",
      "50    Lead Senior GCP Data Engineer with Airflow  Xebia sp. z o.o.   \n",
      "51    Lead Senior GCP Data Engineer with Airflow  Xebia sp. z o.o.   \n",
      "52    Lead Senior GCP Data Engineer with Airflow  Xebia sp. z o.o.   \n",
      "935   Lead Senior GCP Data Engineer with Airflow  Xebia sp. z o.o.   \n",
      "936   Lead Senior GCP Data Engineer with Airflow  Xebia sp. z o.o.   \n",
      "\n",
      "                  Location  Salary Min  Salary Max  \\\n",
      "50   Rzeszów, podkarpackie     64500.0     99000.0   \n",
      "51      Gdańsk, Trójmiasto     64500.0     99000.0   \n",
      "52   Wrocław, dolnośląskie     64500.0     99000.0   \n",
      "935  Rzeszów, podkarpackie     64500.0     99000.0   \n",
      "936     Gdańsk, Trójmiasto     64500.0     99000.0   \n",
      "\n",
      "                                           Description Extracted Skills  \\\n",
      "50    You will be: developing and maintaining data ...               []   \n",
      "51    You will be: developing and maintaining data ...               []   \n",
      "52    You will be: developing and maintaining data ...               []   \n",
      "935   You will be: developing and maintaining data ...               []   \n",
      "936   You will be: developing and maintaining data ...               []   \n",
      "\n",
      "     Longitude  Latitude                                                URL  \\\n",
      "50    22.00695  50.04228  https://www.adzuna.pl/land/ad/5077284254?se=5N...   \n",
      "51    18.64664  54.35203  https://www.adzuna.pl/land/ad/5077284229?se=5N...   \n",
      "52    17.03854  51.10789  https://www.adzuna.pl/land/ad/5077284296?se=5N...   \n",
      "935   22.00695  50.04228  https://www.adzuna.pl/land/ad/5077284254?se=8A...   \n",
      "936   18.64664  54.35203  https://www.adzuna.pl/land/ad/5077284229?se=8A...   \n",
      "\n",
      "     ... Pandas  Power BI PyTorch  Python  R  SQL  Snowflake  Spark  Tableau  \\\n",
      "50   ...      0         0       0       0  0    0          0      0        0   \n",
      "51   ...      0         0       0       0  0    0          0      0        0   \n",
      "52   ...      0         0       0       0  0    0          0      0        0   \n",
      "935  ...      0         0       0       0  0    0          0      0        0   \n",
      "936  ...      0         0       0       0  0    0          0      0        0   \n",
      "\n",
      "     TensorFlow  \n",
      "50            0  \n",
      "51            0  \n",
      "52            0  \n",
      "935           0  \n",
      "936           0  \n",
      "\n",
      "[5 rows x 63 columns]\n"
     ]
    }
   ],
   "source": [
    "# Sortieren der gefilterten Daten nach Job Title und Experience Level\n",
    "sorted_filtered_df = filtered_df.sort_values(by=['Job Title', 'Experience_Level'])\n",
    "\n",
    "# Überprüfen des sortierten DataFrames\n",
    "print(sorted_filtered_df.head())\n"
   ]
  },
  {
   "cell_type": "code",
   "execution_count": 16,
   "id": "a6ba23a2-05b1-4596-a452-466fd7a4876d",
   "metadata": {},
   "outputs": [],
   "source": [
    "filtered_df.to_csv(\"df_filtered.csv\", index=False)"
   ]
  },
  {
   "cell_type": "code",
   "execution_count": 17,
   "id": "95482be4-3d7f-4872-9aa3-318ed63cadab",
   "metadata": {},
   "outputs": [
    {
     "name": "stdout",
     "output_type": "stream",
     "text": [
      "                                            Job Title        Company  \\\n",
      "1                              Federal Sales Director         h2o.ai   \n",
      "4                                         AI Engineer  Catch Recruit   \n",
      "22                              Informatica Developer        NXT GIG   \n",
      "47  Machine Learning/Data-Science Software Enginee...       TN Italy   \n",
      "53                                 Data & AI Engineer          Unit8   \n",
      "\n",
      "                           Location  Salary Min  Salary Max  \\\n",
      "1            Barton, South Canberra     99000.0    132000.0   \n",
      "4       Sandton, North Johannesburg     12960.0     22680.0   \n",
      "22                The Rocks, Sydney     42900.0    132000.0   \n",
      "47  Provincia di Brescia, Lombardia     54500.0     76300.0   \n",
      "53            Warszawa, mazowieckie     66000.0     84000.0   \n",
      "\n",
      "                                          Description Extracted Skills  \\\n",
      "1   About This Opportunity We are looking for a hi...               []   \n",
      "4   Key Responsibilities - Develop and maintain sc...               []   \n",
      "22  NXT GIG is on the lookout for a skilled Inform...               []   \n",
      "47  Social network you want to login/join with: Ma...               []   \n",
      "53  Who We Are Founded in 2017, Unit8 is a fast-gr...               []   \n",
      "\n",
      "     Longitude   Latitude                                                URL  \\\n",
      "1   149.133481 -35.309391  https://www.adzuna.com.au/details/5056635984?u...   \n",
      "4    28.048330 -26.068610  https://www.adzuna.co.za/details/5012435460?ut...   \n",
      "22  151.206616 -33.865715  https://www.adzuna.com.au/details/5082696692?u...   \n",
      "47   10.263698  45.651602  https://www.adzuna.it/land/ad/5083567845?se=xq...   \n",
      "53   21.245300  52.215190  https://www.adzuna.pl/land/ad/5077274837?se=5N...   \n",
      "\n",
      "    ... Pandas  Power BI PyTorch  Python  R  SQL  Snowflake  Spark  Tableau  \\\n",
      "1   ...      0         0       0       0  0    0          0      0        0   \n",
      "4   ...      0         0       0       0  0    0          0      0        0   \n",
      "22  ...      0         0       0       0  0    0          0      0        0   \n",
      "47  ...      0         0       0       0  0    0          0      0        0   \n",
      "53  ...      0         0       0       0  1    0          0      0        0   \n",
      "\n",
      "    TensorFlow  \n",
      "1            0  \n",
      "4            0  \n",
      "22           0  \n",
      "47           0  \n",
      "53           0  \n",
      "\n",
      "[5 rows x 63 columns]\n"
     ]
    }
   ],
   "source": [
    "# Filtern der Zeilen, die NICHT die gewünschten Jobtitel und Erfahrungslevel haben\n",
    "rest_df = df[~df['Job Title'].str.contains('|'.join(job_titles), case=False, na=False) |\n",
    "             ~df['Experience_Level'].str.contains('|'.join(experience_levels), case=False, na=False)]\n",
    "\n",
    "# Überprüfen der ersten paar Zeilen des \"Rest\"-DataFrames\n",
    "print(rest_df.head())\n"
   ]
  },
  {
   "cell_type": "code",
   "execution_count": 18,
   "id": "56180345-834c-4a01-babe-8824d787133e",
   "metadata": {},
   "outputs": [
    {
     "name": "stdout",
     "output_type": "stream",
     "text": [
      "Anzahl der nicht gefilterten Jobs: 202\n"
     ]
    }
   ],
   "source": [
    "# Ausgabe der Anzahl der nicht übereinstimmenden Datensätze\n",
    "print(f\"Anzahl der nicht gefilterten Jobs: {rest_df.shape[0]}\")\n"
   ]
  },
  {
   "cell_type": "code",
   "execution_count": 19,
   "id": "6c35fbf0-ce87-4048-99ec-6f77b22d2d89",
   "metadata": {},
   "outputs": [
    {
     "name": "stdout",
     "output_type": "stream",
     "text": [
      "Einzigartige Jobtitel in den restlichen Datensätzen: 114\n",
      "Einzigartige Erfahrungslevels in den restlichen Datensätzen: 4\n"
     ]
    }
   ],
   "source": [
    "# Zeige die einzigartigen Jobtitel und Levels der restlichen Datensätze\n",
    "unique_job_titles_rest = rest_df['Job Title'].nunique()\n",
    "unique_experience_levels_rest = rest_df['Experience_Level'].nunique()\n",
    "\n",
    "print(\"Einzigartige Jobtitel in den restlichen Datensätzen:\", unique_job_titles_rest)\n",
    "print(\"Einzigartige Erfahrungslevels in den restlichen Datensätzen:\", unique_experience_levels_rest)\n"
   ]
  },
  {
   "cell_type": "code",
   "execution_count": 20,
   "id": "ed527aa1-d3af-407f-afa6-72cc6f5ac36e",
   "metadata": {},
   "outputs": [
    {
     "name": "stdout",
     "output_type": "stream",
     "text": [
      "                                         Job Title        Company  \\\n",
      "1                           Federal Sales Director         h2o.ai   \n",
      "4                                    Data Engineer  Catch Recruit   \n",
      "22                           Informatica Developer        NXT GIG   \n",
      "47  Machine Learning Engineer, Province of Brescia       TN Italy   \n",
      "53                            Data & Data Engineer          Unit8   \n",
      "\n",
      "                           Location  Salary Min  Salary Max  \\\n",
      "1            Barton, South Canberra     99000.0    132000.0   \n",
      "4       Sandton, North Johannesburg     12960.0     22680.0   \n",
      "22                The Rocks, Sydney     42900.0    132000.0   \n",
      "47  Provincia di Brescia, Lombardia     54500.0     76300.0   \n",
      "53            Warszawa, mazowieckie     66000.0     84000.0   \n",
      "\n",
      "                                          Description Extracted Skills  \\\n",
      "1   About This Opportunity We are looking for a hi...               []   \n",
      "4   Key Responsibilities - Develop and maintain sc...               []   \n",
      "22  NXT GIG is on the lookout for a skilled Inform...               []   \n",
      "47  Social network you want to login/join with: Ma...               []   \n",
      "53  Who We Are Founded in 2017, Unit8 is a fast-gr...               []   \n",
      "\n",
      "     Longitude   Latitude                                                URL  \\\n",
      "1   149.133481 -35.309391  https://www.adzuna.com.au/details/5056635984?u...   \n",
      "4    28.048330 -26.068610  https://www.adzuna.co.za/details/5012435460?ut...   \n",
      "22  151.206616 -33.865715  https://www.adzuna.com.au/details/5082696692?u...   \n",
      "47   10.263698  45.651602  https://www.adzuna.it/land/ad/5083567845?se=xq...   \n",
      "53   21.245300  52.215190  https://www.adzuna.pl/land/ad/5077274837?se=5N...   \n",
      "\n",
      "    ... Pandas  Power BI PyTorch  Python  R  SQL  Snowflake  Spark  Tableau  \\\n",
      "1   ...      0         0       0       0  0    0          0      0        0   \n",
      "4   ...      0         0       0       0  0    0          0      0        0   \n",
      "22  ...      0         0       0       0  0    0          0      0        0   \n",
      "47  ...      0         0       0       0  0    0          0      0        0   \n",
      "53  ...      0         0       0       0  1    0          0      0        0   \n",
      "\n",
      "    TensorFlow  \n",
      "1            0  \n",
      "4            0  \n",
      "22           0  \n",
      "47           0  \n",
      "53           0  \n",
      "\n",
      "[5 rows x 63 columns]\n"
     ]
    },
    {
     "name": "stderr",
     "output_type": "stream",
     "text": [
      "C:\\Users\\izadi\\AppData\\Local\\Temp\\ipykernel_340\\1727250061.py:34: SettingWithCopyWarning: \n",
      "A value is trying to be set on a copy of a slice from a DataFrame.\n",
      "Try using .loc[row_indexer,col_indexer] = value instead\n",
      "\n",
      "See the caveats in the documentation: https://pandas.pydata.org/pandas-docs/stable/user_guide/indexing.html#returning-a-view-versus-a-copy\n",
      "  rest_df['Job Title'] = rest_df['Job Title'].replace(jobtitle_mapping, regex=True)\n"
     ]
    }
   ],
   "source": [
    "# Mapping der ähnlich klingenden Jobtitel zu den gewünschten Jobtiteln\n",
    "jobtitle_mapping = {\n",
    "    \"AI Engineer\": \"Data Engineer\",\n",
    "    \"Data & AI Engineer\": \"Data Engineer\",\n",
    "    \"Data Science Lead\": \"Data Scientist\",\n",
    "    \"Data Science Consultant\": \"Data Scientist\",\n",
    "    \"Data Core Engineer\": \"Data Engineer\",\n",
    "    \"Machine Learning/Data-Science Software Engineer\": \"Machine Learning Engineer\",\n",
    "    \"Senior Data Management Analyst\": \"Data Scientist\",\n",
    "    \"Lead AI/ML Engineer\": \"Machine Learning Engineer\",\n",
    "    \"Software Engineer, Machine Learning\": \"Machine Learning Engineer\",\n",
    "    \"Senior Software Engineer - Python & Investments\": \"Data Scientist\",\n",
    "    \"ML Engineer\": \"Machine Learning Engineer\",\n",
    "    \"Senior ML Engineer\": \"Machine Learning Engineer\",\n",
    "    \"Data Platform Engineer\": \"Data Engineer\",\n",
    "    \"Data Architect\": \"Data Engineer\",\n",
    "    \"Big Data Solution Engineer\": \"Data Engineer\",\n",
    "    \"Principal Consultant - Data & AI\": \"Data Scientist\",\n",
    "    \"Data Manager\": \"Data Scientist\",\n",
    "    \"Machine Learning Specialist\": \"Machine Learning Engineer\",\n",
    "    \"Senior Research Engineer – Machine Learning\": \"Data Scientist\",\n",
    "    \"Software Engineer Machine Learning - Compilers\": \"Machine Learning Engineer\",\n",
    "    \"Senior Big Data Software Engineer\": \"Data Engineer\",\n",
    "    \"AWS Databricks Architect\": \"Data Engineer\",\n",
    "    \"Data Acquisition and System Engineer\": \"Data Engineer\",\n",
    "    \"Cloud Data Engineer\": \"Data Engineer\",\n",
    "    \"Senior Software Engineer, Data\": \"Data Scientist\",\n",
    "    \"Senior Digital FPGA Engineer - IP / Machine Learning\": \"Machine Learning Engineer\",\n",
    "    \"Full-Stack Software Engineer\": \"Data Engineer\",\n",
    "    \"Principal Data Science & ML Engineering Consultant\": \"Analytics Consultant\"\n",
    "}\n",
    "\n",
    "# Wende das Mapping auf den DataFrame an\n",
    "rest_df['Job Title'] = rest_df['Job Title'].replace(jobtitle_mapping, regex=True)\n",
    "\n",
    "# Zeige die ersten paar Zeilen des modifizierten DataFrames an\n",
    "print(rest_df.head())\n"
   ]
  },
  {
   "cell_type": "code",
   "execution_count": 21,
   "id": "e982b7c9-a070-41b0-9443-622f774ab937",
   "metadata": {},
   "outputs": [
    {
     "name": "stdout",
     "output_type": "stream",
     "text": [
      "                                         Job Title        Company  \\\n",
      "1                           Federal Sales Director         h2o.ai   \n",
      "4                                    Data Engineer  Catch Recruit   \n",
      "22                           Informatica Developer        NXT GIG   \n",
      "47  Machine Learning Engineer, Province of Brescia       TN Italy   \n",
      "53                            Data & Data Engineer          Unit8   \n",
      "\n",
      "                           Location  Salary Min  Salary Max  \\\n",
      "1            Barton, South Canberra     99000.0    132000.0   \n",
      "4       Sandton, North Johannesburg     12960.0     22680.0   \n",
      "22                The Rocks, Sydney     42900.0    132000.0   \n",
      "47  Provincia di Brescia, Lombardia     54500.0     76300.0   \n",
      "53            Warszawa, mazowieckie     66000.0     84000.0   \n",
      "\n",
      "                                          Description Extracted Skills  \\\n",
      "1   About This Opportunity We are looking for a hi...               []   \n",
      "4   Key Responsibilities - Develop and maintain sc...               []   \n",
      "22  NXT GIG is on the lookout for a skilled Inform...               []   \n",
      "47  Social network you want to login/join with: Ma...               []   \n",
      "53  Who We Are Founded in 2017, Unit8 is a fast-gr...               []   \n",
      "\n",
      "     Longitude   Latitude                                                URL  \\\n",
      "1   149.133481 -35.309391  https://www.adzuna.com.au/details/5056635984?u...   \n",
      "4    28.048330 -26.068610  https://www.adzuna.co.za/details/5012435460?ut...   \n",
      "22  151.206616 -33.865715  https://www.adzuna.com.au/details/5082696692?u...   \n",
      "47   10.263698  45.651602  https://www.adzuna.it/land/ad/5083567845?se=xq...   \n",
      "53   21.245300  52.215190  https://www.adzuna.pl/land/ad/5077274837?se=5N...   \n",
      "\n",
      "    ... Pandas  Power BI PyTorch  Python  R  SQL  Snowflake  Spark  Tableau  \\\n",
      "1   ...      0         0       0       0  0    0          0      0        0   \n",
      "4   ...      0         0       0       0  0    0          0      0        0   \n",
      "22  ...      0         0       0       0  0    0          0      0        0   \n",
      "47  ...      0         0       0       0  0    0          0      0        0   \n",
      "53  ...      0         0       0       0  1    0          0      0        0   \n",
      "\n",
      "    TensorFlow  \n",
      "1            0  \n",
      "4            0  \n",
      "22           0  \n",
      "47           0  \n",
      "53           0  \n",
      "\n",
      "[5 rows x 63 columns]\n"
     ]
    },
    {
     "name": "stderr",
     "output_type": "stream",
     "text": [
      "C:\\Users\\izadi\\AppData\\Local\\Temp\\ipykernel_340\\46568293.py:10: SettingWithCopyWarning: \n",
      "A value is trying to be set on a copy of a slice from a DataFrame.\n",
      "Try using .loc[row_indexer,col_indexer] = value instead\n",
      "\n",
      "See the caveats in the documentation: https://pandas.pydata.org/pandas-docs/stable/user_guide/indexing.html#returning-a-view-versus-a-copy\n",
      "  rest_df['Experience_Level'] = rest_df['Experience_Level'].replace(experience_level_mapping, regex=True)\n"
     ]
    }
   ],
   "source": [
    "# Mapping der Erfahrungslevel (optional, falls benötigt)\n",
    "experience_level_mapping = {\n",
    "    \"Junior\": \"junior\",\n",
    "    \"Mid-Level\": \"mid-level\",\n",
    "    \"Senior\": \"senior\",\n",
    "    \"Expert\": \"expert\"\n",
    "}\n",
    "\n",
    "# Ersetze das Erfahrungslevel\n",
    "rest_df['Experience_Level'] = rest_df['Experience_Level'].replace(experience_level_mapping, regex=True)\n",
    "\n",
    "# Zeige die ersten paar Zeilen des modifizierten DataFrames an\n",
    "print(rest_df.head())\n"
   ]
  },
  {
   "cell_type": "code",
   "execution_count": 22,
   "id": "b28d7d74-45ff-4ded-993f-cde9b396f2ca",
   "metadata": {},
   "outputs": [
    {
     "name": "stdout",
     "output_type": "stream",
     "text": [
      "Die Datei wurde erfolgreich als 'prepared_job_titles.csv' gespeichert.\n"
     ]
    }
   ],
   "source": [
    "# Speichern des finalen DataFrames als CSV-Datei\n",
    "rest_df.to_csv('prepared_job_titles.csv', index=False)\n",
    "\n",
    "# Ausgabe zur Bestätigung\n",
    "print(\"Die Datei wurde erfolgreich als 'prepared_job_titles.csv' gespeichert.\")\n"
   ]
  },
  {
   "cell_type": "code",
   "execution_count": 23,
   "id": "7e10dc47-ebf7-4724-818a-d5c4a38d3240",
   "metadata": {},
   "outputs": [
    {
     "name": "stdout",
     "output_type": "stream",
     "text": [
      "Erste Datei hat 202 Zeilen und 63 Spalten.\n",
      "Restliche Datei hat 2053 Zeilen und 63 Spalten.\n"
     ]
    }
   ],
   "source": [
    "import pandas as pd\n",
    "\n",
    "# Einlesen der beiden CSV-Dateien in separate DataFrames\n",
    "first_df = pd.read_csv('prepared_job_titles.csv')  # Erste Datei\n",
    "rest_df = pd.read_csv('df_filtered.csv')  # Restliche Datei\n",
    "\n",
    "# Bestätigung der Größe der DataFrames\n",
    "print(f\"Erste Datei hat {first_df.shape[0]} Zeilen und {first_df.shape[1]} Spalten.\")\n",
    "print(f\"Restliche Datei hat {rest_df.shape[0]} Zeilen und {rest_df.shape[1]} Spalten.\")\n"
   ]
  },
  {
   "cell_type": "code",
   "execution_count": 24,
   "id": "f2dd5801-6019-4575-88fb-1ac6bba37475",
   "metadata": {},
   "outputs": [
    {
     "name": "stdout",
     "output_type": "stream",
     "text": [
      "Die kombinierte Datei hat nun 2255 Zeilen und 63 Spalten.\n"
     ]
    }
   ],
   "source": [
    "# Zusammenführen der beiden DataFrames (untereinander)\n",
    "combined_df = pd.concat([first_df, rest_df], ignore_index=True)\n",
    "\n",
    "# Überprüfen der kombinierten Datei\n",
    "print(f\"Die kombinierte Datei hat nun {combined_df.shape[0]} Zeilen und {combined_df.shape[1]} Spalten.\")\n"
   ]
  },
  {
   "cell_type": "code",
   "execution_count": 25,
   "id": "1dc0885c-88c1-40a2-8ad0-d8b511ede3b7",
   "metadata": {},
   "outputs": [
    {
     "name": "stdout",
     "output_type": "stream",
     "text": [
      "Die kombinierte Datei wurde erfolgreich als 'combined_job_titles.csv' gespeichert.\n"
     ]
    }
   ],
   "source": [
    "# Speichern der kombinierten Datei als CSV\n",
    "combined_df.to_csv('df_letzte.csv', index=False)\n",
    "\n",
    "# Bestätigung\n",
    "print(\"Die kombinierte Datei wurde erfolgreich als 'combined_job_titles.csv' gespeichert.\")\n"
   ]
  },
  {
   "cell_type": "code",
   "execution_count": 26,
   "id": "7e34df8a-1505-47aa-b0de-e441945c2b96",
   "metadata": {},
   "outputs": [],
   "source": [
    "df_letzte = pd.read_csv(\"df_letzte.csv\")"
   ]
  },
  {
   "cell_type": "code",
   "execution_count": 27,
   "id": "fc8d8f18-6054-4941-a951-4d67804572a8",
   "metadata": {},
   "outputs": [
    {
     "data": {
      "text/plain": [
       "511"
      ]
     },
     "execution_count": 27,
     "metadata": {},
     "output_type": "execute_result"
    }
   ],
   "source": [
    "df_letzte['Job Title'].nunique()"
   ]
  },
  {
   "cell_type": "code",
   "execution_count": 28,
   "id": "0a0587b3-05bc-4ea0-bb4f-59ca29772cc0",
   "metadata": {},
   "outputs": [],
   "source": [
    "target_titles = [\n",
    "    \"Data Scientist\",\n",
    "    \"Data Analyst\",\n",
    "    \"Data Engineer\",\n",
    "    \"Machine Learning Engineer\",\n",
    "    \"Analytics Consultant\"\n",
    "]\n"
   ]
  },
  {
   "cell_type": "code",
   "execution_count": 29,
   "id": "1eebb719-5cf9-463a-ab21-57526a873e69",
   "metadata": {},
   "outputs": [
    {
     "name": "stderr",
     "output_type": "stream",
     "text": [
      "C:\\Users\\izadi\\AppData\\Roaming\\Python\\Python312\\site-packages\\fuzzywuzzy\\fuzz.py:11: UserWarning: Using slow pure-python SequenceMatcher. Install python-Levenshtein to remove this warning\n",
      "  warnings.warn('Using slow pure-python SequenceMatcher. Install python-Levenshtein to remove this warning')\n"
     ]
    }
   ],
   "source": [
    "from fuzzywuzzy import process\n",
    "\n",
    "def map_job_title(job_title, target_titles):\n",
    "    \"\"\" Findet den ähnlichsten Jobtitel aus der Liste der gewünschten Titel \"\"\"\n",
    "    match, score = process.extractOne(job_title, target_titles)\n",
    "    \n",
    "    # Setze eine minimale Ähnlichkeitsbewertung (z. B. 80%)\n",
    "    if score > 80:\n",
    "        return match\n",
    "    else:\n",
    "        return job_title  # Falls kein passendes Ergebnis gefunden wurde\n",
    "\n",
    "# Wende die Mapping-Funktion auf die Jobtitel-Spalte an\n",
    "df_letzte[\"Job Title\"] = df_letzte[\"Job Title\"].apply(lambda x: map_job_title(x, target_titles))\n"
   ]
  },
  {
   "cell_type": "code",
   "execution_count": 30,
   "id": "841287ff-fecb-4cc4-b088-031851631b62",
   "metadata": {},
   "outputs": [
    {
     "name": "stdout",
     "output_type": "stream",
     "text": [
      "Anzahl der eindeutigen Jobtitel nach der Normalisierung: 511\n"
     ]
    }
   ],
   "source": [
    "print(\"Anzahl der eindeutigen Jobtitel nach der Normalisierung:\", combined_df[\"Job Title\"].nunique())"
   ]
  },
  {
   "cell_type": "code",
   "execution_count": 31,
   "id": "294e3e0a-8e97-41ed-8cbb-82f5b420da8a",
   "metadata": {},
   "outputs": [],
   "source": [
    "job_mapping = {\n",
    "    \"AI Engineer\": \"Machine Learning Engineer\",\n",
    "    \"Data & AI Engineer\": \"Data Engineer\",\n",
    "    \"Lead AI/ML Engineer\": \"Machine Learning Engineer\",\n",
    "    \"ML Engineer Remote UK company\": \"Machine Learning Engineer\",\n",
    "    \"Databricks Engineer\": \"Data Engineer\",\n",
    "    \"Hadoop Engineer\": \"Data Engineer\",\n",
    "    \"Senior BI Specialist\": \"Data Analyst\",\n",
    "    \"Big Data Solution Engineer\": \"Data Engineer\",\n",
    "    \"Senior Data Management Analyst\": \"Data Analyst\",\n",
    "    \"Power BI Developer\": \"Data Analyst\",\n",
    "    \"Data Science Consultant\": \"Data Scientist\",\n",
    "    \"Data Science Lead\": \"Data Scientist\",\n",
    "    \"Data Science Manager\": \"Data Scientist\",\n",
    "    \"Head of Data Science\": \"Data Scientist\",\n",
    "    \"Machine Learning Ops Engineer\": \"Machine Learning Engineer\",\n",
    "    \"Principal Data Science & ML Engineering Consultant\": \"Analytics Consultant\",\n",
    "}\n"
   ]
  },
  {
   "cell_type": "code",
   "execution_count": 32,
   "id": "3f021506-ddaf-47b5-af22-06484ab23135",
   "metadata": {},
   "outputs": [],
   "source": [
    "from fuzzywuzzy import process\n",
    "\n",
    "def normalize_job_title(job_title, mapping, target_titles):\n",
    "    # 1️⃣ Falls der Jobtitel in der Mapping-Tabelle ist, direkt zuordnen\n",
    "    if job_title in mapping:\n",
    "        return mapping[job_title]\n",
    "\n",
    "    # 2️⃣ Falls nicht, mit Fuzzy Matching den nächsten passenden Titel suchen\n",
    "    match, score = process.extractOne(job_title, target_titles)\n",
    "\n",
    "    # 3️⃣ Wenn die Ähnlichkeit über 85% liegt, ersetze den Jobtitel\n",
    "    if score >= 85:\n",
    "        return match\n",
    "    else:\n",
    "        return job_title  # Falls kein gutes Matching, bleibt der Titel unverändert\n",
    "\n",
    "# Wende die erweiterte Normalisierung auf die Jobtitel-Spalte an\n",
    "combined_df[\"Job Title\"] = combined_df[\"Job Title\"].apply(lambda x: normalize_job_title(x, job_mapping, target_titles))\n"
   ]
  },
  {
   "cell_type": "code",
   "execution_count": 33,
   "id": "028869d8-9889-44f7-8948-878a7dec2462",
   "metadata": {},
   "outputs": [
    {
     "name": "stdout",
     "output_type": "stream",
     "text": [
      "Anzahl der eindeutigen Jobtitel nach der erweiterten Normalisierung: 25\n",
      "Einzigartige Jobtitel nach der erweiterten Normalisierung: ['Federal Sales Director' 'Data Engineer' 'Informatica Developer'\n",
      " 'Machine Learning Engineer' 'Analytics Consultant' 'Data Scientist'\n",
      " 'Quantitative Python Developer | Sydney, AU' 'Data Analyst'\n",
      " 'R/SQL Developer in Clinical Trials, Metropolitan City of Milan'\n",
      " 'Data consultants' 'Medior Backend Developer (Python)' 'LLM Developer'\n",
      " 'Machine Learning Developer Kloof' 'Senior Manager, Machine Learning'\n",
      " 'Ingénieur Machine Learning H/F' 'Senior AI Consultant'\n",
      " 'MLOps SRE - Senior Associate' 'Engineering Manager'\n",
      " 'Director of Machine Learning' 'Remote Sensing Specialist (SAR)'\n",
      " 'Machine Learning Lead' 'Consulting Manager Fraud Practice'\n",
      " 'IBM Cloud Pak Consultant' 'Senior Analytic Consultant'\n",
      " 'Machine Learning Engineering Manager']\n"
     ]
    }
   ],
   "source": [
    "print(\"Anzahl der eindeutigen Jobtitel nach der erweiterten Normalisierung:\", combined_df[\"Job Title\"].nunique())\n",
    "print(\"Einzigartige Jobtitel nach der erweiterten Normalisierung:\", combined_df[\"Job Title\"].unique())\n"
   ]
  },
  {
   "cell_type": "code",
   "execution_count": 34,
   "id": "dda3d53d-83fa-4d12-9c3f-e8d6b7c06d5a",
   "metadata": {},
   "outputs": [],
   "source": [
    "# Liste der zu löschenden Jobtitel\n",
    "to_remove = [\n",
    "    \"Federal Sales Director\",\n",
    "    \"Informatica Developer\",\n",
    "    \"Quantitative Python Developer | Sydney, AU\",\n",
    "    \"R/SQL Developer in Clinical Trials, Metropolitan City of Milan\",\n",
    "    \"Medior Backend Developer (Python)\",\n",
    "    \"Remote Sensing Specialist (SAR)\",\n",
    "    \"New Business Development Role\",\n",
    "    \"Software Engineer\",\n",
    "    \"INGENIERO/A INFORMÁTICO CON CERTIFICACIÓN POWER BI\",\n",
    "    \"Senior Pa Johannesburg\",\n",
    "    \"Senior Manager\",\n",
    "    \"MLOps SRE - Senior Associate\",\n",
    "    \"Consulting Manager Fraud Practice\",\n",
    "    \"Resident Solutions Architect - Databricks\",\n",
    "    \"Engineering Manager\"\n",
    "]\n",
    "\n",
    "# Entfernen der unerwünschten Jobtitel\n",
    "filtered_df = combined_df[~combined_df[\"Job Title\"].isin(to_remove)]\n",
    "\n",
    "# Speichern der bereinigten Datei\n",
    "#filtered_df.to_csv(\"final_cleaned_job_titles.csv\", index=False)\n"
   ]
  },
  {
   "cell_type": "code",
   "execution_count": 35,
   "id": "01dccbc6-4798-4525-891c-290356858ed5",
   "metadata": {},
   "outputs": [
    {
     "name": "stdout",
     "output_type": "stream",
     "text": [
      "Anzahl der eindeutigen Jobtitel nach der erweiterten Normalisierung: 16\n",
      "Einzigartige Jobtitel nach der erweiterten Normalisierung: ['Data Engineer' 'Machine Learning Engineer' 'Analytics Consultant'\n",
      " 'Data Scientist' 'Data Analyst' 'Data consultants' 'LLM Developer'\n",
      " 'Machine Learning Developer Kloof' 'Senior Manager, Machine Learning'\n",
      " 'Ingénieur Machine Learning H/F' 'Senior AI Consultant'\n",
      " 'Director of Machine Learning' 'Machine Learning Lead'\n",
      " 'IBM Cloud Pak Consultant' 'Senior Analytic Consultant'\n",
      " 'Machine Learning Engineering Manager']\n"
     ]
    }
   ],
   "source": [
    "print(\"Anzahl der eindeutigen Jobtitel nach der erweiterten Normalisierung:\", filtered_df[\"Job Title\"].nunique())\n",
    "print(\"Einzigartige Jobtitel nach der erweiterten Normalisierung:\", filtered_df[\"Job Title\"].unique())"
   ]
  },
  {
   "cell_type": "code",
   "execution_count": 36,
   "id": "46807b52-76e8-4b36-a036-b7b440ba8f16",
   "metadata": {},
   "outputs": [
    {
     "name": "stderr",
     "output_type": "stream",
     "text": [
      "C:\\Users\\izadi\\AppData\\Local\\Temp\\ipykernel_340\\1855286301.py:20: SettingWithCopyWarning: \n",
      "A value is trying to be set on a copy of a slice from a DataFrame.\n",
      "Try using .loc[row_indexer,col_indexer] = value instead\n",
      "\n",
      "See the caveats in the documentation: https://pandas.pydata.org/pandas-docs/stable/user_guide/indexing.html#returning-a-view-versus-a-copy\n",
      "  filtered_df[\"Job Title\"] = filtered_df[\"Job Title\"].replace(job_title_mapping)\n"
     ]
    }
   ],
   "source": [
    "# Mapping für die Standardisierung der Jobtitel\n",
    "job_title_mapping = {\n",
    "    \"AI Quant Scientist\": \"Machine Learning Engineer\",\n",
    "    \"Data consultants\": \"Analytics Consultant\",\n",
    "    \"LLM Developer\": \"Machine Learning Engineer\",\n",
    "    \"Machine Learning Developer Kloof\": \"Machine Learning Engineer\",\n",
    "    \"Test Analyst\": \"Data Analyst\",\n",
    "    \"Senior Manager, Machine Learning\": \"Machine Learning Engineer\",\n",
    "    \"Ingénieur Machine Learning H/F\": \"Machine Learning Engineer\",\n",
    "    \"Senior AI Consultant\": \"Analytics Consultant\",\n",
    "    \"Director of Machine Learning\": \"Machine Learning Engineer\",\n",
    "    \"Machine Learning Lead\": \"Machine Learning Engineer\",\n",
    "    \"IBM Cloud Pak Consultant\": \"Analytics Consultant\",\n",
    "    \"Senior Analytic Consultant\": \"Analytics Consultant\",\n",
    "    \"Machine Learning Engineering Manager\": \"Machine Learning Engineer\",\n",
    "    \"BI Analyst\": \"Data Analyst\"\n",
    "}\n",
    "\n",
    "# Anwenden der Ersetzung\n",
    "filtered_df[\"Job Title\"] = filtered_df[\"Job Title\"].replace(job_title_mapping)\n"
   ]
  },
  {
   "cell_type": "code",
   "execution_count": 37,
   "id": "009e409a-8fea-44e2-8adc-8134e65635a9",
   "metadata": {},
   "outputs": [
    {
     "name": "stdout",
     "output_type": "stream",
     "text": [
      "Anzahl der eindeutigen Jobtitel nach der erweiterten Normalisierung: 5\n",
      "Einzigartige Jobtitel nach der erweiterten Normalisierung: ['Data Engineer' 'Machine Learning Engineer' 'Analytics Consultant'\n",
      " 'Data Scientist' 'Data Analyst']\n"
     ]
    }
   ],
   "source": [
    "print(\"Anzahl der eindeutigen Jobtitel nach der erweiterten Normalisierung:\", filtered_df[\"Job Title\"].nunique())\n",
    "print(\"Einzigartige Jobtitel nach der erweiterten Normalisierung:\", filtered_df[\"Job Title\"].unique())"
   ]
  },
  {
   "cell_type": "code",
   "execution_count": 38,
   "id": "b2a1bcdf-dca1-44be-803a-2b6440b51856",
   "metadata": {},
   "outputs": [
    {
     "name": "stdout",
     "output_type": "stream",
     "text": [
      "Die final sortierte Datei wurde erfolgreich gespeichert!\n"
     ]
    }
   ],
   "source": [
    "# Speichern der finalen Datei\n",
    "filtered_df.to_csv(\"df_Cleaned_Salary_Skills_JobTitle.csv\", index=False)\n",
    "print(\"Die final sortierte Datei wurde erfolgreich gespeichert!\")"
   ]
  },
  {
   "cell_type": "code",
   "execution_count": null,
   "id": "d8cae28c-3efc-4ca4-979f-3478774a8207",
   "metadata": {},
   "outputs": [],
   "source": []
  }
 ],
 "metadata": {
  "kernelspec": {
   "display_name": "Python 3 (ipykernel)",
   "language": "python",
   "name": "python3"
  },
  "language_info": {
   "codemirror_mode": {
    "name": "ipython",
    "version": 3
   },
   "file_extension": ".py",
   "mimetype": "text/x-python",
   "name": "python",
   "nbconvert_exporter": "python",
   "pygments_lexer": "ipython3",
   "version": "3.13.0"
  }
 },
 "nbformat": 4,
 "nbformat_minor": 5
}
