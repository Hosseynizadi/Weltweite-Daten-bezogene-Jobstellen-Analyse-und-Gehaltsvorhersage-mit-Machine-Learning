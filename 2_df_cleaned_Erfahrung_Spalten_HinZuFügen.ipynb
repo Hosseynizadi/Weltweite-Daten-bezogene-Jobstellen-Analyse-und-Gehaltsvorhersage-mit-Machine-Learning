{
 "cells": [
  {
   "cell_type": "code",
   "execution_count": 1,
   "id": "cd6f18fc-afdf-444c-80bb-b2e54c7d43dd",
   "metadata": {},
   "outputs": [],
   "source": [
    "import pandas as pd\n",
    "import random\n",
    "df_cleaned = pd.read_csv(\"df_cleaned.csv\")"
   ]
  },
  {
   "cell_type": "code",
   "execution_count": 2,
   "id": "13bdde8e-4e90-45f1-91a7-d09e6b7c7727",
   "metadata": {},
   "outputs": [
    {
     "name": "stdout",
     "output_type": "stream",
     "text": [
      "✅ فایل جدید ذخیره شد: df_cleaned.csv\n"
     ]
    }
   ],
   "source": [
    "import pandas as pd\n",
    "import random\n",
    "\n",
    "expert_keywords = [\"manager\", \"director\", \"head\", \"vp\", \"chief\", \"cto\", \"cio\", \"cdo\", \"executive\", \"senior director\", \"head of\"]\n",
    "senior_keywords = [\"senior\", \"lead\", \"principal\", \"advanced\", \"senior consultant\", \"senior specialist\"]\n",
    "mid_keywords = [\"specialist\", \"consultant\", \"developer\", \"coordinator\"]\n",
    "junior_keywords = [\"junior\", \"entry\", \"trainee\", \"intern\", \"graduate\", \"apprentice\", \"associate\", \"data analyst\", \"data scientist\",\n",
    "                   \"data engineer\", \"machine learning\", \"ml engineer\", \"ai engineer\", \"data engnieer\"]\n",
    "\n",
    "def classify_experience(job_title):\n",
    "    job_title = str(job_title).lower()\n",
    "\n",
    "    Experience_Level = \"unknown\"\n",
    "    Experience_years = 0  \n",
    "\n",
    "    if any(keyword in job_title for keyword in expert_keywords):\n",
    "        Experience_Level = \"expert\"\n",
    "        Experience_years = random.randint(10, 15)\n",
    "\n",
    "    elif any(keyword in job_title for keyword in senior_keywords):\n",
    "        Experience_Level = \"senior\"\n",
    "        Experience_years = random.randint(5, 10)\n",
    "\n",
    "    elif any(keyword in job_title for keyword in mid_keywords):\n",
    "        Experience_Level = \"mid-level\"\n",
    "        Experience_years = random.randint(2, 5)\n",
    "\n",
    "    elif any(keyword in job_title for keyword in junior_keywords):\n",
    "        Experience_Level = \"junior\"\n",
    "        Experience_years = random.randint(0, 2)\n",
    "\n",
    "    return Experience_years, Experience_Level\n",
    "\n",
    "df_cleaned.drop(columns=['Experience_years', 'Experience_Level'], errors='ignore', inplace=True)\n",
    "\n",
    "df_cleaned[[\"Experience_years\", \"Experience_Level\"]] = df_cleaned[\"Job Title\"].apply(classify_experience).apply(pd.Series)\n",
    "\n",
    "new_csv_filename = \"df_cleaned.csv\"\n",
    "df_cleaned.to_csv(new_csv_filename, index=False)\n",
    "\n",
    "print(f\" New file saved: {new_csv_filename}\")"
   ]
  },
  {
   "cell_type": "code",
   "execution_count": 3,
   "id": "137d6837-eeaa-4385-8598-5b97c965aa6d",
   "metadata": {},
   "outputs": [],
   "source": [
    "df = pd.read_csv(\"df_cleaned.csv\")"
   ]
  },
  {
   "cell_type": "code",
   "execution_count": 4,
   "id": "44ced095-c0d5-498a-be2d-ae14fe7a1f26",
   "metadata": {},
   "outputs": [
    {
     "data": {
      "text/plain": [
       "(2355, 13)"
      ]
     },
     "execution_count": 4,
     "metadata": {},
     "output_type": "execute_result"
    }
   ],
   "source": [
    "df.shape"
   ]
  },
  {
   "cell_type": "code",
   "execution_count": 5,
   "id": "e07e22b7-642e-4c67-bcae-36779d22fdd2",
   "metadata": {},
   "outputs": [
    {
     "data": {
      "text/plain": [
       "1545"
      ]
     },
     "execution_count": 5,
     "metadata": {},
     "output_type": "execute_result"
    }
   ],
   "source": [
    "df[(df[\"Experience_Level\"] == \"junior\")].shape[0] \n"
   ]
  },
  {
   "cell_type": "code",
   "execution_count": 6,
   "id": "85cb0939-f1d1-477f-bfc1-193c3affa117",
   "metadata": {},
   "outputs": [
    {
     "data": {
      "text/plain": [
       "642"
      ]
     },
     "execution_count": 6,
     "metadata": {},
     "output_type": "execute_result"
    }
   ],
   "source": [
    "df[(df[\"Experience_Level\"] == \"senior\")].shape[0]\n"
   ]
  },
  {
   "cell_type": "code",
   "execution_count": 7,
   "id": "aa98f634-4ca6-4fe1-b1cc-ca6b3d6515bf",
   "metadata": {},
   "outputs": [
    {
     "data": {
      "text/plain": [
       "73"
      ]
     },
     "execution_count": 7,
     "metadata": {},
     "output_type": "execute_result"
    }
   ],
   "source": [
    "df[(df[\"Experience_Level\"] == \"expert\")].shape[0] \n"
   ]
  },
  {
   "cell_type": "code",
   "execution_count": 8,
   "id": "c4dee29b-e176-44ca-903c-da0274862673",
   "metadata": {},
   "outputs": [
    {
     "data": {
      "text/plain": [
       "95"
      ]
     },
     "execution_count": 8,
     "metadata": {},
     "output_type": "execute_result"
    }
   ],
   "source": [
    "df[(df[\"Experience_Level\"] == \"mid-level\")].shape[0] \n"
   ]
  },
  {
   "cell_type": "code",
   "execution_count": 9,
   "id": "b73bac4a-d384-4754-9dfc-dad27c2234eb",
   "metadata": {},
   "outputs": [
    {
     "data": {
      "text/plain": [
       "0"
      ]
     },
     "execution_count": 9,
     "metadata": {},
     "output_type": "execute_result"
    }
   ],
   "source": [
    "df[(df[\"Experience_Level\"] == \"unknown\")].shape[0] "
   ]
  },
  {
   "cell_type": "code",
   "execution_count": 10,
   "id": "6ce83b65-bd3b-4772-86fb-d0f12bcabe27",
   "metadata": {},
   "outputs": [
    {
     "data": {
      "text/html": [
       "<div>\n",
       "<style scoped>\n",
       "    .dataframe tbody tr th:only-of-type {\n",
       "        vertical-align: middle;\n",
       "    }\n",
       "\n",
       "    .dataframe tbody tr th {\n",
       "        vertical-align: top;\n",
       "    }\n",
       "\n",
       "    .dataframe thead th {\n",
       "        text-align: right;\n",
       "    }\n",
       "</style>\n",
       "<table border=\"1\" class=\"dataframe\">\n",
       "  <thead>\n",
       "    <tr style=\"text-align: right;\">\n",
       "      <th></th>\n",
       "      <th>Job Title</th>\n",
       "      <th>Company</th>\n",
       "      <th>Location</th>\n",
       "      <th>Salary Min</th>\n",
       "      <th>Salary Max</th>\n",
       "      <th>Description</th>\n",
       "      <th>Extracted Skills</th>\n",
       "      <th>Longitude</th>\n",
       "      <th>Latitude</th>\n",
       "      <th>URL</th>\n",
       "      <th>Created</th>\n",
       "      <th>Experience_years</th>\n",
       "      <th>Experience_Level</th>\n",
       "    </tr>\n",
       "  </thead>\n",
       "  <tbody>\n",
       "  </tbody>\n",
       "</table>\n",
       "</div>"
      ],
      "text/plain": [
       "Empty DataFrame\n",
       "Columns: [Job Title, Company, Location, Salary Min, Salary Max, Description, Extracted Skills, Longitude, Latitude, URL, Created, Experience_years, Experience_Level]\n",
       "Index: []"
      ]
     },
     "execution_count": 10,
     "metadata": {},
     "output_type": "execute_result"
    }
   ],
   "source": [
    "df_ = df[(df[\"Experience_Level\"] == \"unknown\")]\n",
    "df_"
   ]
  },
  {
   "cell_type": "code",
   "execution_count": 11,
   "id": "4504e66b-b338-4887-b1e9-bd45c76cb8d9",
   "metadata": {},
   "outputs": [],
   "source": [
    "df_cleaned = df_cleaned[df_cleaned[\"Experience_Level\"] != \"unknown\"]\n",
    "df_cleaned.to_csv(\"df_cleaned.csv\", index=False)"
   ]
  },
  {
   "cell_type": "code",
   "execution_count": 12,
   "id": "f1efda15-1186-4325-acce-2723b276d3b1",
   "metadata": {},
   "outputs": [
    {
     "name": "stdout",
     "output_type": "stream",
     "text": [
      "✅ Die Experience_Years-Spalte wurde basierend auf der Beschreibung aktualisiert!\n"
     ]
    }
   ],
   "source": [
    "import pandas as pd\n",
    "import re\n",
    "\n",
    "def extract_experience_years(description):\n",
    "    description = str(description).lower()  \n",
    "    \n",
    "    match = re.search(r'(\\d+)\\s*(?:\\+?\\s*years?|jahre?|yrs?)', description)\n",
    "    \n",
    "    if match:\n",
    "        return int(match.group(1))  \n",
    "    return None  \n",
    "\n",
    "def update_experience_years(row):\n",
    "    extracted_years = extract_experience_years(row[\"Description\"])  \n",
    "    \n",
    "    if extracted_years is not None:  \n",
    "        if pd.isna(row[\"Experience_years\"]) or row[\"Experience_years\"] != extracted_years:\n",
    "            return extracted_years  \n",
    "    \n",
    "    return row[\"Experience_years\"] \n",
    "\n",
    "\n",
    "df_cleaned[\"Experience_years\"] = df_cleaned.apply(update_experience_years, axis=1)\n",
    "\n",
    "df_cleaned.to_csv(\"df_cleaned.csv\", index=False)\n",
    "print(\"Die Experience_Years-Spalte wurde basierend auf der Beschreibung aktualisiert!\")\n"
   ]
  }
 ],
 "metadata": {
  "kernelspec": {
   "display_name": "Python 3 (ipykernel)",
   "language": "python",
   "name": "python3"
  },
  "language_info": {
   "codemirror_mode": {
    "name": "ipython",
    "version": 3
   },
   "file_extension": ".py",
   "mimetype": "text/x-python",
   "name": "python",
   "nbconvert_exporter": "python",
   "pygments_lexer": "ipython3",
   "version": "3.13.0"
  }
 },
 "nbformat": 4,
 "nbformat_minor": 5
}
